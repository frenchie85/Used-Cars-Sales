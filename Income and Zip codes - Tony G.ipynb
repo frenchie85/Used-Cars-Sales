{
 "cells": [
  {
   "cell_type": "code",
   "execution_count": 13,
   "metadata": {},
   "outputs": [],
   "source": [
    "import pandas as pd\n",
    "import numpy as np\n",
    "import matplotlib.pyplot as plt\n",
    "import scipy.stats as st\n",
    "\n",
    "plt.rcParams['axes.facecolor'] = 'white'\n",
    "plt.rcParams['figure.facecolor'] = 'white'"
   ]
  },
  {
   "cell_type": "code",
   "execution_count": 17,
   "metadata": {},
   "outputs": [
    {
     "name": "stdout",
     "output_type": "stream",
     "text": [
      "        STATEFIPS STATE  zipcode  agi_stub    A00100  N02650    A02650\n",
      "0               1    AL        0         1  10467448  802640  10626881\n",
      "1               1    AL        0         2  17977581  499070  18153235\n",
      "2               1    AL        0         3  16502473  268590  16659518\n",
      "3               1    AL        0         4  14817087  170900  14951547\n",
      "4               1    AL        0         5  31131390  229850  31461757\n",
      "...           ...   ...      ...       ...       ...     ...       ...\n",
      "166532         56    WY    99999         2    132401    3630    133833\n",
      "166533         56    WY    99999         3    152256    2470    153790\n",
      "166534         56    WY    99999         4    157779    1820    159192\n",
      "166535         56    WY    99999         5    328980    2480    333132\n",
      "166536         56    WY    99999         6    459890     700    469004\n",
      "\n",
      "[166537 rows x 7 columns]\n"
     ]
    }
   ],
   "source": [
    "income_file = 'data/income/17zpallagi.csv'\n",
    "zip_code_file = \"data/income/us zip codes.csv\"\n",
    "\n",
    "income_df = pd.read_csv(income_file)\n",
    "zip_code_df = pd.read_csv(zip_code_file)\n",
    "\n",
    "\n",
    "\n",
    "city_list = ['Miami', 'Minneapolis', 'Chicago', 'Houston', 'San Antonio', 'New York', 'Seattle', 'Nashville', 'San Francisco', 'Atlanta']\n",
    "state_list = ['FL', 'MN', 'IL', 'TX', 'TX', 'NY', 'WA', 'TN', 'CA', 'GA']\n",
    "renamed_zip_df = zip_code_df.rename(columns = {'zip':'zipcode'})\n",
    "print(income_df)"
   ]
  },
  {
   "cell_type": "code",
   "execution_count": 15,
   "metadata": {},
   "outputs": [
    {
     "name": "stdout",
     "output_type": "stream",
     "text": [
      "      zipcode     city STATE agi_stub  A02650 N02650\n",
      "24140   33122    Miami    FL        1    4823    NaN\n",
      "24141   33122    Miami    FL        2    7995    NaN\n",
      "24142   33122    Miami    FL        3    9034    NaN\n",
      "24143   33122    Miami    FL        4    9127    NaN\n",
      "24144   33122    Miami    FL        5   15830    NaN\n",
      "...       ...      ...   ...      ...     ...    ...\n",
      "28389   30363  Atlanta    GA        2   13549    NaN\n",
      "28390   30363  Atlanta    GA        3   22823    NaN\n",
      "28391   30363  Atlanta    GA        4   17184    NaN\n",
      "28392   30363  Atlanta    GA        5   42281    NaN\n",
      "28393   30363  Atlanta    GA        6  104798    NaN\n",
      "\n",
      "[2866 rows x 6 columns]\n"
     ]
    }
   ],
   "source": [
    "selected_df = pd.DataFrame( columns=['zipcode', 'city', 'STATE', 'agi_stub', 'A02650', 'N02650'] )\n",
    "average_income = []\n",
    "merge_df = income_df.merge(renamed_zip_df, on = 'zipcode')\n",
    "cleaned_merge_df = merge_df[['zipcode','city', 'STATE', 'agi_stub', 'A02650']]\n",
    "cleaned_merge_df.head()\n",
    "\n",
    "\n",
    "for city in range(len(city_list)):\n",
    "    \n",
    "    selected_city_df = cleaned_merge_df.loc[cleaned_merge_df['city'] == city_list[city]]\n",
    "    selected_state_df = selected_city_df.loc[selected_city_df['STATE']== state_list[city]]\n",
    "    selected_df = selected_df.append(selected_state_df)\n",
    "    \n",
    "    average_city_income = round(selected_state_df['A02650'].mean(), 2)\n",
    "    average_income.append(average_city_income)\n",
    "        \n",
    "\n",
    "average_df = pd.DataFrame(columns = ['city','average income'])\n",
    "average_df['city'] = city_list\n",
    "average_df['average income'] = average_income\n",
    "\n",
    "print(selected_df)"
   ]
  }
 ],
 "metadata": {
  "kernelspec": {
   "display_name": "Python 3",
   "language": "python",
   "name": "python3"
  },
  "language_info": {
   "codemirror_mode": {
    "name": "ipython",
    "version": 3
   },
   "file_extension": ".py",
   "mimetype": "text/x-python",
   "name": "python",
   "nbconvert_exporter": "python",
   "pygments_lexer": "ipython3",
   "version": "3.7.6"
  }
 },
 "nbformat": 4,
 "nbformat_minor": 4
}
