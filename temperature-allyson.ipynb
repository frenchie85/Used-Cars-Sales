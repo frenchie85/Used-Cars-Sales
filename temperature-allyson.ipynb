{
 "cells": [
  {
   "cell_type": "code",
   "execution_count": 1,
   "metadata": {},
   "outputs": [],
   "source": [
    " # Dependencies and Setup\n",
    "import pandas as pd\n",
    "\n",
    "# File to Load\n",
    "temperature_data_to_load = \"C:\\\\Users\\\\allys\\\\Documents\\\\project1\\\\temperature.csv\"\n",
    "\n",
    "# Read temperature Data File and store into Pandas DataFrames\n",
    "temperature_data = pd.read_csv(temperature_data_to_load)"
   ]
  },
  {
   "cell_type": "code",
   "execution_count": null,
   "metadata": {},
   "outputs": [],
   "source": []
  }
 ],
 "metadata": {
  "kernelspec": {
   "display_name": "Python 3",
   "language": "python",
   "name": "python3"
  },
  "language_info": {
   "codemirror_mode": {
    "name": "ipython",
    "version": 3
   },
   "file_extension": ".py",
   "mimetype": "text/x-python",
   "name": "python",
   "nbconvert_exporter": "python",
   "pygments_lexer": "ipython3",
   "version": "3.7.6"
  }
 },
 "nbformat": 4,
 "nbformat_minor": 4
}
