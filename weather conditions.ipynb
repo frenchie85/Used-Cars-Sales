{
 "cells": [
  {
   "cell_type": "code",
   "execution_count": 1,
   "metadata": {},
   "outputs": [],
   "source": [
    "import pandas as pd\n",
    "import numpy as np\n",
    "import matplotlib.pyplot as plt\n",
    "import scipy.stats as st"
   ]
  },
  {
   "cell_type": "code",
   "execution_count": 10,
   "metadata": {},
   "outputs": [
    {
     "name": "stdout",
     "output_type": "stream",
     "text": [
      "         datetime  San Francisco        Seattle             San Antonio  \\\n",
      "0   1/2/2017 4:00     light rain  broken clouds            sky is clear   \n",
      "1   1/2/2017 9:00  moderate rain  broken clouds              light rain   \n",
      "2  1/2/2017 10:00     light rain  broken clouds  proximity thunderstorm   \n",
      "3  1/2/2017 19:00     light rain  broken clouds              light rain   \n",
      "4  1/2/2017 20:00     light rain  broken clouds            sky is clear   \n",
      "\n",
      "      Houston      Minneapolis           Chicago        Nashville  Atlanta  \\\n",
      "0        mist  overcast clouds     broken clouds             mist  drizzle   \n",
      "1         fog       light snow  scattered clouds             mist     mist   \n",
      "2         fog  overcast clouds      sky is clear             mist     mist   \n",
      "3  few clouds             mist        light rain  overcast clouds     mist   \n",
      "4  few clouds             mist              mist  overcast clouds      fog   \n",
      "\n",
      "              Miami      New York  \n",
      "0  scattered clouds    few clouds  \n",
      "1        light rain  sky is clear  \n",
      "2     broken clouds  sky is clear  \n",
      "3     broken clouds          haze  \n",
      "4     broken clouds          haze  \n"
     ]
    }
   ],
   "source": [
    "condition_file = '2017string.csv'\n",
    "\n",
    "\n",
    "condition_df = pd.read_csv(condition_file)\n",
    "\n",
    "\n",
    "print(condition_df.head())\n",
    "\n"
   ]
  },
  {
   "cell_type": "code",
   "execution_count": 50,
   "metadata": {},
   "outputs": [
    {
     "name": "stdout",
     "output_type": "stream",
     "text": [
      "               broken clouds  drizzle  few clouds    fog   haze  \\\n",
      "San Francisco          474.0     14.0       426.0  195.0  980.0   \n",
      "Seattle                968.0      5.0       296.0  171.0  311.0   \n",
      "San Antonio            816.0     30.0       760.0  146.0  293.0   \n",
      "Houston                931.0     23.0       598.0  224.0  557.0   \n",
      "Minneapolis            819.0    165.0       220.0  162.0  180.0   \n",
      "\n",
      "               heavy intensity drizzle  heavy intensity rain  \\\n",
      "San Francisco                      1.0                  18.0   \n",
      "Seattle                            1.0                   6.0   \n",
      "San Antonio                        3.0                  11.0   \n",
      "Houston                            1.0                  48.0   \n",
      "Minneapolis                       20.0                  29.0   \n",
      "\n",
      "               light intensity drizzle  light rain  light snow  ...  \\\n",
      "San Francisco                     86.0       460.0         1.0  ...   \n",
      "Seattle                          839.0       823.0        40.0  ...   \n",
      "San Antonio                      133.0       451.0         NaN  ...   \n",
      "Houston                           23.0       435.0         1.0  ...   \n",
      "Minneapolis                      234.0       345.0       234.0  ...   \n",
      "\n",
      "               thunderstorm with drizzle  thunderstorm with light drizzle  \\\n",
      "San Francisco                        NaN                              NaN   \n",
      "Seattle                              NaN                              NaN   \n",
      "San Antonio                          NaN                              NaN   \n",
      "Houston                              1.0                              2.0   \n",
      "Minneapolis                          NaN                              3.0   \n",
      "\n",
      "               volcanic ash  heavy snow  proximity thunderstorm with drizzle  \\\n",
      "San Francisco           NaN         NaN                                  NaN   \n",
      "Seattle                 NaN         NaN                                  NaN   \n",
      "San Antonio             NaN         NaN                                  NaN   \n",
      "Houston                 1.0         NaN                                  NaN   \n",
      "Minneapolis             NaN         2.0                                  3.0   \n",
      "\n",
      "               dust  freezing rain  heavy thunderstorm  sand/dust whirls  \\\n",
      "San Francisco   NaN            NaN                 NaN               NaN   \n",
      "Seattle         NaN            NaN                 NaN               NaN   \n",
      "San Antonio     NaN            NaN                 NaN               NaN   \n",
      "Houston         NaN            NaN                 NaN               NaN   \n",
      "Minneapolis     NaN            NaN                 NaN               NaN   \n",
      "\n",
      "               tornado  \n",
      "San Francisco      NaN  \n",
      "Seattle            NaN  \n",
      "San Antonio        NaN  \n",
      "Houston            NaN  \n",
      "Minneapolis        NaN  \n",
      "\n",
      "[5 rows x 40 columns]\n",
      "sky is clear                        1891\n",
      "mist                                1713\n",
      "broken clouds                        931\n",
      "scattered clouds                     742\n",
      "few clouds                           598\n",
      "haze                                 557\n",
      "overcast clouds                      454\n",
      "light rain                           435\n",
      "fog                                  224\n",
      "proximity thunderstorm               133\n",
      "moderate rain                         81\n",
      "thunderstorm                          64\n",
      "heavy intensity rain                  48\n",
      "proximity shower rain                 33\n",
      "drizzle                               23\n",
      "light intensity drizzle               23\n",
      "thunderstorm with light rain          16\n",
      "thunderstorm with heavy rain           9\n",
      "thunderstorm with rain                 6\n",
      "proximity thunderstorm with rain       4\n",
      "thunderstorm with light drizzle        2\n",
      "volcanic ash                           1\n",
      "thunderstorm with drizzle              1\n",
      "heavy intensity drizzle                1\n",
      "shower rain                            1\n",
      "light snow                             1\n",
      "proximity moderate rain                1\n",
      "Name: Houston, dtype: int64\n"
     ]
    }
   ],
   "source": [
    "SF = condition_df['San Francisco'].value_counts()\n",
    "Sea = condition_df['Seattle'].value_counts()\n",
    "SA = condition_df['San Antonio'].value_counts()\n",
    "Hou = condition_df['Houston'].value_counts()\n",
    "Minn = condition_df['Minneapolis'].value_counts()\n",
    "Chi = condition_df['Chicago'].value_counts()\n",
    "Nash = condition_df['Nashville'].value_counts()\n",
    "NY = condition_df['New York'].value_counts()\n",
    "Atl = condition_df['Atlanta'].value_counts()\n",
    "Mia = condition_df['Miami'].value_counts()\n",
    "\n",
    "df = df.append(SF)\n",
    "df = df.append(Sea)\n",
    "df = df.append(SA)\n",
    "df = df.append(Hou)\n",
    "df = df.append(Minn)\n",
    "df = df.append(Chi)\n",
    "df = df.append(Nash)\n",
    "df = df.append(NY)\n",
    "df = df.append(Atl)\n",
    "df = df.append(Mia)\n",
    "\n",
    "print(df)\n",
    "print(Hou)"
   ]
  },
  {
   "cell_type": "code",
   "execution_count": 53,
   "metadata": {},
   "outputs": [],
   "source": [
    "df=df.head(10)"
   ]
  },
  {
   "cell_type": "code",
   "execution_count": 54,
   "metadata": {},
   "outputs": [],
   "source": [
    "df.to_csv(r'data/weather/condition_count_by_city.csv')"
   ]
  }
 ],
 "metadata": {
  "kernelspec": {
   "display_name": "Python 3",
   "language": "python",
   "name": "python3"
  },
  "language_info": {
   "codemirror_mode": {
    "name": "ipython",
    "version": 3
   },
   "file_extension": ".py",
   "mimetype": "text/x-python",
   "name": "python",
   "nbconvert_exporter": "python",
   "pygments_lexer": "ipython3",
   "version": "3.7.6"
  }
 },
 "nbformat": 4,
 "nbformat_minor": 4
}
