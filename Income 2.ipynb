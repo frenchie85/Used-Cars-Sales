{
 "cells": [
  {
   "cell_type": "code",
   "execution_count": 8,
   "metadata": {},
   "outputs": [],
   "source": [
    "import pandas as pd\n",
    "import numpy as np\n",
    "import matplotlib.pyplot as plt\n",
    "import scipy.stats as st\n",
    "\n",
    "plt.rcParams['axes.facecolor'] = 'white'\n",
    "plt.rcParams['figure.facecolor'] = 'white'"
   ]
  },
  {
   "cell_type": "code",
   "execution_count": 3,
   "metadata": {},
   "outputs": [
    {
     "name": "stdout",
     "output_type": "stream",
     "text": [
      "        id  State_Code State_Name State_ab          County            City  \\\n",
      "0  1011000           1    Alabama       AL   Mobile County       Chickasaw   \n",
      "1  1011010           1    Alabama       AL  Barbour County      Louisville   \n",
      "2  1011020           1    Alabama       AL   Shelby County      Columbiana   \n",
      "3  1011030           1    Alabama       AL   Mobile County         Satsuma   \n",
      "4  1011040           1    Alabama       AL   Mobile County  Dauphin Island   \n",
      "\n",
      "             Place  Type Primary  Zip_Code Area_Code     ALand     AWater  \\\n",
      "0   Chickasaw city  City   place     36611       251  10894952     909156   \n",
      "1        Clio city  City   place     36048       334  26070325      23254   \n",
      "2  Columbiana city  City   place     35051       205  44835274     261034   \n",
      "3      Creola city  City   place     36572       251  36878729    2374530   \n",
      "4   Dauphin Island  Town   place     36528       251  16204185  413605152   \n",
      "\n",
      "         Lat        Lon   Mean  Median  Stdev        sum_w  \n",
      "0  30.771450 -88.079697  38773   30506  33101  1638.260513  \n",
      "1  31.708516 -85.611039  37725   19528  43789   258.017685  \n",
      "2  33.191452 -86.615618  54606   31930  57348   926.031000  \n",
      "3  30.874343 -88.009442  63919   52814  47707   378.114619  \n",
      "4  30.250913 -88.171268  77948   67225  54270   282.320328  \n"
     ]
    }
   ],
   "source": [
    "income_file = 'data/income/kaggle_income.csv'\n",
    "\n",
    "\n",
    "income_df = pd.read_csv(income_file, encoding='latin-1')\n",
    "\n",
    "\n",
    "print(income_df.head())\n",
    "\n",
    "city_list = ['Miami', 'Minneapolis', 'Chicago', 'Houston', 'San Antonio', 'New York', 'Seattle', 'Nashville', 'San Francisco', 'Atlanta']\n",
    "state_list = ['FL', 'MN', 'IL', 'TX', 'TX', 'NY', 'WA', 'TN', 'CA', 'GA']"
   ]
  },
  {
   "cell_type": "code",
   "execution_count": 4,
   "metadata": {},
   "outputs": [
    {
     "name": "stdout",
     "output_type": "stream",
     "text": [
      "             id  State_Code State_Name State_ab             County     City  \\\n",
      "5915   12011333          12    Florida       FL  Miami-Dade County    Miami   \n",
      "5965   12011833          12    Florida       FL  Miami-Dade County    Miami   \n",
      "6003  120210060          12    Florida       FL     Alachua County    Miami   \n",
      "6004  120210070          12    Florida       FL     Alachua County    Miami   \n",
      "6005  120210080          12    Florida       FL     Alachua County    Miami   \n",
      "...         ...         ...        ...      ...                ...      ...   \n",
      "8374    1302943          13    Georgia       GA     Appling County  Atlanta   \n",
      "8375    1302953          13    Georgia       GA     Appling County  Atlanta   \n",
      "8376    1302963          13    Georgia       GA     Appling County  Atlanta   \n",
      "8377    1302973          13    Georgia       GA     Appling County  Atlanta   \n",
      "8378    1302983          13    Georgia       GA     Appling County  Atlanta   \n",
      "\n",
      "                 Place     Type Primary  Zip_Code Area_Code     ALand  AWater  \\\n",
      "5915     Coral Terrace      CDP   place     33155       305   8701172  186899   \n",
      "5965         Pinecrest  Village   place     33156       305  19290823  225388   \n",
      "6003  Gainesville city    Track   Track     33147       305   1976245   21327   \n",
      "6004  Gainesville city    Track   Track     33150       305   2417895  106111   \n",
      "6005  Gainesville city    Track   Track     33147       305   2503106       0   \n",
      "...                ...      ...     ...       ...       ...       ...     ...   \n",
      "8374       Baxley city    Track   Track     30313       404    796145       0   \n",
      "8375       Baxley city    Track   Track     30303       404   1406159       0   \n",
      "8376       Baxley city    Track   Track     30312       404    393131       0   \n",
      "8377       Baxley city    Track   Track     30311       404   2246955       0   \n",
      "8378       Baxley city    Track   Track     30316       678   3150599       0   \n",
      "\n",
      "            Lat        Lon    Mean  Median  Stdev        sum_w  \n",
      "5915  25.746187 -80.304463   61400   48065  52115  4600.010823  \n",
      "5965  25.665174 -80.304857  136954  129060  87857  2009.594730  \n",
      "6003  25.864077 -80.251666   57207  300000  38645   256.994340  \n",
      "6004  25.853711 -80.220547   66049  300000  26091    63.162994  \n",
      "6005  25.843269 -80.222794   41979   26726  47089   247.921154  \n",
      "...         ...        ...     ...     ...    ...          ...  \n",
      "8374  33.765513 -84.394716   64712   36145  70641   607.934528  \n",
      "8375  33.750944 -84.391657   58996   52296  48895   359.609502  \n",
      "8376  33.744331 -84.383938   28125   17233  31824   458.737530  \n",
      "8377  33.727755 -84.437032   35910   29426  31363  1012.095308  \n",
      "8378  33.718314 -84.358770   64049   43421  58979   754.973567  \n",
      "\n",
      "[1224 rows x 19 columns]\n"
     ]
    }
   ],
   "source": [
    "selected_df = pd.DataFrame() \n",
    "    \n",
    "for city in range(len(city_list)):\n",
    "    \n",
    "    selected_city_df = income_df.loc[income_df['City'] == city_list[city]]\n",
    "    selected_state_df = selected_city_df.loc[selected_city_df['State_ab']== state_list[city]]\n",
    "    selected_df = selected_df.append(selected_state_df)\n",
    "    \n",
    "   \n",
    "print(selected_df)\n",
    "\n",
    "selected_df = selected_df[['State_Name', 'City', 'Zip_Code', 'Lat', 'Lon', 'Mean', 'Median', 'Stdev']]\n",
    "\n",
    "selected_df.to_csv(r'data/income/Major_Cities_income_by_zip.csv', index = False)\n"
   ]
  },
  {
   "cell_type": "code",
   "execution_count": 6,
   "metadata": {},
   "outputs": [
    {
     "name": "stdout",
     "output_type": "stream",
     "text": [
      "                        Mean\n",
      "City                        \n",
      "Atlanta         76480.661290\n",
      "Chicago         63975.973154\n",
      "Houston         68297.500000\n",
      "Miami           61431.583333\n",
      "Minneapolis     71931.660377\n",
      "Nashville       61077.977778\n",
      "New York        88873.627586\n",
      "San Antonio     61195.118519\n",
      "San Francisco  100856.922078\n",
      "Seattle         85278.707692\n",
      "                Median\n",
      "City                  \n",
      "Atlanta        51177.0\n",
      "Chicago        45905.5\n",
      "Houston        51903.0\n",
      "Miami          45951.0\n",
      "Minneapolis    50330.0\n",
      "Nashville      48392.0\n",
      "New York       68128.0\n",
      "San Antonio    46222.0\n",
      "San Francisco  84786.0\n",
      "Seattle        75283.0\n"
     ]
    }
   ],
   "source": [
    "mean_df = selected_df.groupby('City').mean()\n",
    "\n",
    "\n",
    "mean_df = mean_df[['Mean']]\n",
    "median_df = selected_df.groupby('City').median()\n",
    "median_df = median_df[['Median']]\n",
    "\n",
    "print(mean_df)\n",
    "print(median_df)\n",
    "#mean_df.to_csv(r'data/income/mean_income_city.csv')\n",
    "#median_df.to_csv(r'data/income/median_income_city.csv')"
   ]
  },
  {
   "cell_type": "markdown",
   "metadata": {},
   "source": [
    "mean_df = selected_df.groupby('City').mean()\n",
    "\n",
    "\n",
    "mean_df = mean_df[['Mean']]\n",
    "median_df = selected_df.groupby('City').median()\n",
    "median_df = median_df[['Median']]\n",
    "\n",
    "print(mean_df)\n",
    "print(median_df)\n",
    "selected_df.to_csv(r'data/income/mean_income_city.csv', index = False)\n",
    "selected_df.to_csv(r'data/income/Major_Cities_income_by_zip.csv', index = False)"
   ]
  },
  {
   "cell_type": "code",
   "execution_count": 7,
   "metadata": {},
   "outputs": [],
   "source": []
  }
 ],
 "metadata": {
  "kernelspec": {
   "display_name": "Python 3",
   "language": "python",
   "name": "python3"
  },
  "language_info": {
   "codemirror_mode": {
    "name": "ipython",
    "version": 3
   },
   "file_extension": ".py",
   "mimetype": "text/x-python",
   "name": "python",
   "nbconvert_exporter": "python",
   "pygments_lexer": "ipython3",
   "version": "3.7.6"
  }
 },
 "nbformat": 4,
 "nbformat_minor": 4
}
